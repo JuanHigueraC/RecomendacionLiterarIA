{
 "cells": [
  {
   "cell_type": "code",
   "execution_count": 1,
   "metadata": {},
   "outputs": [],
   "source": [
    "import pandas as pd"
   ]
  },
  {
   "cell_type": "code",
   "execution_count": 2,
   "metadata": {},
   "outputs": [],
   "source": [
    "df = pd.read_csv('../data/raw/books_google_dataset.csv')"
   ]
  },
  {
   "cell_type": "code",
   "execution_count": 3,
   "metadata": {},
   "outputs": [
    {
     "data": {
      "text/plain": [
       "Index(['isbn13', 'isbn10', 'title', 'subtitle', 'authors', 'categories',\n",
       "       'thumbnail', 'description', 'published_year', 'average_rating',\n",
       "       'num_pages', 'ratings_count'],\n",
       "      dtype='object')"
      ]
     },
     "execution_count": 3,
     "metadata": {},
     "output_type": "execute_result"
    }
   ],
   "source": [
    "df.columns"
   ]
  },
  {
   "cell_type": "code",
   "execution_count": 4,
   "metadata": {},
   "outputs": [],
   "source": [
    "columnas = ['isbn13','title', 'subtitle','description']\n",
    "df_filtrado = df[columnas]"
   ]
  },
  {
   "cell_type": "code",
   "execution_count": 5,
   "metadata": {},
   "outputs": [
    {
     "name": "stderr",
     "output_type": "stream",
     "text": [
      "C:\\Users\\juanc\\AppData\\Local\\Temp\\ipykernel_3352\\1572166301.py:1: SettingWithCopyWarning: \n",
      "A value is trying to be set on a copy of a slice from a DataFrame.\n",
      "Try using .loc[row_indexer,col_indexer] = value instead\n",
      "\n",
      "See the caveats in the documentation: https://pandas.pydata.org/pandas-docs/stable/user_guide/indexing.html#returning-a-view-versus-a-copy\n",
      "  df_filtrado.loc[:, 'combined'] = df_filtrado.apply(lambda x: x['title'] + ' ' + x['subtitle'] if pd.notna(x['subtitle']) else x['title'], axis=1)\n"
     ]
    },
    {
     "data": {
      "text/plain": [
       "0                                                  Gilead\n",
       "1                                    Spider's Web A Novel\n",
       "2                                            The One Tree\n",
       "3                                          Rage of angels\n",
       "4                                          The Four Loves\n",
       "                              ...                        \n",
       "6805        I Am that Talks with Sri Nisargadatta Maharaj\n",
       "6806                                 Secrets Of The Heart\n",
       "6807                                       Fahrenheit 451\n",
       "6808                             The Berlin Phenomenology\n",
       "6809    'I'm Telling You Stories' Jeanette Winterson a...\n",
       "Name: combined, Length: 6810, dtype: object"
      ]
     },
     "execution_count": 5,
     "metadata": {},
     "output_type": "execute_result"
    }
   ],
   "source": [
    "df_filtrado.loc[:, 'combined'] = df_filtrado.apply(lambda x: x['title'] + ' ' + x['subtitle'] if pd.notna(x['subtitle']) else x['title'], axis=1)\n",
    "df_filtrado['combined']"
   ]
  },
  {
   "cell_type": "code",
   "execution_count": 4,
   "metadata": {},
   "outputs": [],
   "source": [
    "\n",
    "import spacy\n",
    "from spacytextblob.spacytextblob import SpacyTextBlob\n",
    "\n",
    "nlp = spacy.load(\"en_core_web_sm\")  # Si fuese español, podría usarse \"es_core_news_sm\"\n",
    "nlp.add_pipe(\"spacytextblob\")\n",
    "\n",
    "doc = nlp(\"I am extremely happy with this new phone.\")\n",
    "#print(doc._.polarity, doc._.subjectivity)\n"
   ]
  },
  {
   "cell_type": "code",
   "execution_count": 3,
   "metadata": {},
   "outputs": [
    {
     "name": "stdout",
     "output_type": "stream",
     "text": [
      "spaCy version: 3.8.2\n",
      "spacytextblob OK\n",
      "Modelo cargado: en_core_web_sm\n",
      "Pipelines en nlp: ['tok2vec', 'tagger', 'parser', 'attribute_ruler', 'lemmatizer', 'ner', 'spacytextblob']\n"
     ]
    },
    {
     "ename": "AttributeError",
     "evalue": "[E046] Can't retrieve unregistered extension attribute 'polarity'. Did you forget to call the `set_extension` method?",
     "output_type": "error",
     "traceback": [
      "\u001b[1;31m---------------------------------------------------------------------------\u001b[0m",
      "\u001b[1;31mAttributeError\u001b[0m                            Traceback (most recent call last)",
      "Cell \u001b[1;32mIn[3], line 17\u001b[0m\n\u001b[0;32m     14\u001b[0m \u001b[38;5;28mprint\u001b[39m(\u001b[38;5;124m\"\u001b[39m\u001b[38;5;124mPipelines en nlp:\u001b[39m\u001b[38;5;124m\"\u001b[39m, nlp\u001b[38;5;241m.\u001b[39mpipe_names)\n\u001b[0;32m     16\u001b[0m doc \u001b[38;5;241m=\u001b[39m nlp(\u001b[38;5;124m\"\u001b[39m\u001b[38;5;124mI am extremely happy with this new phone.\u001b[39m\u001b[38;5;124m\"\u001b[39m)\n\u001b[1;32m---> 17\u001b[0m \u001b[38;5;28mprint\u001b[39m(\u001b[38;5;124m\"\u001b[39m\u001b[38;5;124mPolarity:\u001b[39m\u001b[38;5;124m\"\u001b[39m, \u001b[43mdoc\u001b[49m\u001b[38;5;241;43m.\u001b[39;49m\u001b[43m_\u001b[49m\u001b[38;5;241;43m.\u001b[39;49m\u001b[43mpolarity\u001b[49m)\n\u001b[0;32m     18\u001b[0m \u001b[38;5;28mprint\u001b[39m(\u001b[38;5;124m\"\u001b[39m\u001b[38;5;124mSubjectivity:\u001b[39m\u001b[38;5;124m\"\u001b[39m, doc\u001b[38;5;241m.\u001b[39m_\u001b[38;5;241m.\u001b[39msubjectivity)\n",
      "File \u001b[1;32mc:\\Users\\juanc\\Anaconda3\\envs\\IAlibros\\Lib\\site-packages\\spacy\\tokens\\underscore.py:48\u001b[0m, in \u001b[0;36mUnderscore.__getattr__\u001b[1;34m(self, name)\u001b[0m\n\u001b[0;32m     46\u001b[0m \u001b[38;5;28;01mdef\u001b[39;00m \u001b[38;5;21m__getattr__\u001b[39m(\u001b[38;5;28mself\u001b[39m, name: \u001b[38;5;28mstr\u001b[39m) \u001b[38;5;241m-\u001b[39m\u001b[38;5;241m>\u001b[39m Any:\n\u001b[0;32m     47\u001b[0m     \u001b[38;5;28;01mif\u001b[39;00m name \u001b[38;5;129;01mnot\u001b[39;00m \u001b[38;5;129;01min\u001b[39;00m \u001b[38;5;28mself\u001b[39m\u001b[38;5;241m.\u001b[39m_extensions:\n\u001b[1;32m---> 48\u001b[0m         \u001b[38;5;28;01mraise\u001b[39;00m \u001b[38;5;167;01mAttributeError\u001b[39;00m(Errors\u001b[38;5;241m.\u001b[39mE046\u001b[38;5;241m.\u001b[39mformat(name\u001b[38;5;241m=\u001b[39mname))\n\u001b[0;32m     49\u001b[0m     default, method, getter, setter \u001b[38;5;241m=\u001b[39m \u001b[38;5;28mself\u001b[39m\u001b[38;5;241m.\u001b[39m_extensions[name]\n\u001b[0;32m     50\u001b[0m     \u001b[38;5;28;01mif\u001b[39;00m getter \u001b[38;5;129;01mis\u001b[39;00m \u001b[38;5;129;01mnot\u001b[39;00m \u001b[38;5;28;01mNone\u001b[39;00m:\n",
      "\u001b[1;31mAttributeError\u001b[0m: [E046] Can't retrieve unregistered extension attribute 'polarity'. Did you forget to call the `set_extension` method?"
     ]
    }
   ],
   "source": [
    "import spacy\n",
    "print(\"spaCy version:\", spacy.__version__)\n",
    "\n",
    "from spacytextblob.spacytextblob import SpacyTextBlob\n",
    "print(\"spacytextblob OK\")\n",
    "\n",
    "nlp = spacy.load(\"en_core_web_sm\")\n",
    "print(\"Modelo cargado:\", \"en_core_web_sm\")\n",
    "\n",
    "# Agregar pipeline (si aún no existe)\n",
    "if \"spacytextblob\" not in nlp.pipe_names:\n",
    "    nlp.add_pipe(\"spacytextblob\", last=True)\n",
    "\n",
    "print(\"Pipelines en nlp:\", nlp.pipe_names)\n",
    "\n",
    "doc = nlp(\"I am extremely happy with this new phone.\")\n",
    "print(\"Polarity:\", doc._.polarity)\n",
    "print(\"Subjectivity:\", doc._.subjectivity)\n"
   ]
  },
  {
   "cell_type": "code",
   "execution_count": null,
   "metadata": {},
   "outputs": [],
   "source": []
  }
 ],
 "metadata": {
  "kernelspec": {
   "display_name": "IAlibros",
   "language": "python",
   "name": "python3"
  },
  "language_info": {
   "codemirror_mode": {
    "name": "ipython",
    "version": 3
   },
   "file_extension": ".py",
   "mimetype": "text/x-python",
   "name": "python",
   "nbconvert_exporter": "python",
   "pygments_lexer": "ipython3",
   "version": "3.12.8"
  }
 },
 "nbformat": 4,
 "nbformat_minor": 2
}
