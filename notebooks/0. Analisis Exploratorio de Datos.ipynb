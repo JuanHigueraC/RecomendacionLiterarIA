{
 "cells": [
  {
   "cell_type": "markdown",
   "metadata": {},
   "source": [
    "# Analisis Exploratorio de Datos"
   ]
  },
  {
   "cell_type": "code",
   "execution_count": 1,
   "metadata": {},
   "outputs": [],
   "source": [
    "import pandas as pd"
   ]
  },
  {
   "cell_type": "code",
   "execution_count": 2,
   "metadata": {},
   "outputs": [],
   "source": [
    "df = pd.read_csv('../data/raw/books_google_dataset.csv')"
   ]
  },
  {
   "cell_type": "code",
   "execution_count": 3,
   "metadata": {},
   "outputs": [
    {
     "data": {
      "text/plain": [
       "(6810, 12)"
      ]
     },
     "execution_count": 3,
     "metadata": {},
     "output_type": "execute_result"
    }
   ],
   "source": [
    "df.shape"
   ]
  },
  {
   "cell_type": "code",
   "execution_count": 4,
   "metadata": {},
   "outputs": [
    {
     "data": {
      "text/html": [
       "<div>\n",
       "<style scoped>\n",
       "    .dataframe tbody tr th:only-of-type {\n",
       "        vertical-align: middle;\n",
       "    }\n",
       "\n",
       "    .dataframe tbody tr th {\n",
       "        vertical-align: top;\n",
       "    }\n",
       "\n",
       "    .dataframe thead th {\n",
       "        text-align: right;\n",
       "    }\n",
       "</style>\n",
       "<table border=\"1\" class=\"dataframe\">\n",
       "  <thead>\n",
       "    <tr style=\"text-align: right;\">\n",
       "      <th></th>\n",
       "      <th>isbn13</th>\n",
       "      <th>isbn10</th>\n",
       "      <th>title</th>\n",
       "      <th>subtitle</th>\n",
       "      <th>authors</th>\n",
       "      <th>categories</th>\n",
       "      <th>thumbnail</th>\n",
       "      <th>description</th>\n",
       "      <th>published_year</th>\n",
       "      <th>average_rating</th>\n",
       "      <th>num_pages</th>\n",
       "      <th>ratings_count</th>\n",
       "    </tr>\n",
       "  </thead>\n",
       "  <tbody>\n",
       "    <tr>\n",
       "      <th>0</th>\n",
       "      <td>9780002005883</td>\n",
       "      <td>0002005883</td>\n",
       "      <td>Gilead</td>\n",
       "      <td>NaN</td>\n",
       "      <td>Marilynne Robinson</td>\n",
       "      <td>Fiction</td>\n",
       "      <td>http://books.google.com/books/content?id=KQZCP...</td>\n",
       "      <td>A NOVEL THAT READERS and critics have been eag...</td>\n",
       "      <td>2004.0</td>\n",
       "      <td>3.85</td>\n",
       "      <td>247.0</td>\n",
       "      <td>361.0</td>\n",
       "    </tr>\n",
       "    <tr>\n",
       "      <th>1</th>\n",
       "      <td>9780002261982</td>\n",
       "      <td>0002261987</td>\n",
       "      <td>Spider's Web</td>\n",
       "      <td>A Novel</td>\n",
       "      <td>Charles Osborne;Agatha Christie</td>\n",
       "      <td>Detective and mystery stories</td>\n",
       "      <td>http://books.google.com/books/content?id=gA5GP...</td>\n",
       "      <td>A new 'Christie for Christmas' -- a full-lengt...</td>\n",
       "      <td>2000.0</td>\n",
       "      <td>3.83</td>\n",
       "      <td>241.0</td>\n",
       "      <td>5164.0</td>\n",
       "    </tr>\n",
       "    <tr>\n",
       "      <th>2</th>\n",
       "      <td>9780006163831</td>\n",
       "      <td>0006163831</td>\n",
       "      <td>The One Tree</td>\n",
       "      <td>NaN</td>\n",
       "      <td>Stephen R. Donaldson</td>\n",
       "      <td>American fiction</td>\n",
       "      <td>http://books.google.com/books/content?id=OmQaw...</td>\n",
       "      <td>Volume Two of Stephen Donaldson's acclaimed se...</td>\n",
       "      <td>1982.0</td>\n",
       "      <td>3.97</td>\n",
       "      <td>479.0</td>\n",
       "      <td>172.0</td>\n",
       "    </tr>\n",
       "    <tr>\n",
       "      <th>3</th>\n",
       "      <td>9780006178736</td>\n",
       "      <td>0006178731</td>\n",
       "      <td>Rage of angels</td>\n",
       "      <td>NaN</td>\n",
       "      <td>Sidney Sheldon</td>\n",
       "      <td>Fiction</td>\n",
       "      <td>http://books.google.com/books/content?id=FKo2T...</td>\n",
       "      <td>A memorable, mesmerizing heroine Jennifer -- b...</td>\n",
       "      <td>1993.0</td>\n",
       "      <td>3.93</td>\n",
       "      <td>512.0</td>\n",
       "      <td>29532.0</td>\n",
       "    </tr>\n",
       "    <tr>\n",
       "      <th>4</th>\n",
       "      <td>9780006280897</td>\n",
       "      <td>0006280897</td>\n",
       "      <td>The Four Loves</td>\n",
       "      <td>NaN</td>\n",
       "      <td>Clive Staples Lewis</td>\n",
       "      <td>Christian life</td>\n",
       "      <td>http://books.google.com/books/content?id=XhQ5X...</td>\n",
       "      <td>Lewis' work on the nature of love divides love...</td>\n",
       "      <td>2002.0</td>\n",
       "      <td>4.15</td>\n",
       "      <td>170.0</td>\n",
       "      <td>33684.0</td>\n",
       "    </tr>\n",
       "    <tr>\n",
       "      <th>5</th>\n",
       "      <td>9780006280934</td>\n",
       "      <td>0006280935</td>\n",
       "      <td>The Problem of Pain</td>\n",
       "      <td>NaN</td>\n",
       "      <td>Clive Staples Lewis</td>\n",
       "      <td>Christian life</td>\n",
       "      <td>http://books.google.com/books/content?id=Kk-uV...</td>\n",
       "      <td>\"In The Problem of Pain, C.S. Lewis, one of th...</td>\n",
       "      <td>2002.0</td>\n",
       "      <td>4.09</td>\n",
       "      <td>176.0</td>\n",
       "      <td>37569.0</td>\n",
       "    </tr>\n",
       "    <tr>\n",
       "      <th>6</th>\n",
       "      <td>9780006353287</td>\n",
       "      <td>0006353282</td>\n",
       "      <td>An Autobiography</td>\n",
       "      <td>NaN</td>\n",
       "      <td>Agatha Christie</td>\n",
       "      <td>Authors, English</td>\n",
       "      <td>http://books.google.com/books/content?id=c49GQ...</td>\n",
       "      <td>Donation.</td>\n",
       "      <td>1977.0</td>\n",
       "      <td>4.27</td>\n",
       "      <td>560.0</td>\n",
       "      <td>3975.0</td>\n",
       "    </tr>\n",
       "    <tr>\n",
       "      <th>7</th>\n",
       "      <td>9780006380832</td>\n",
       "      <td>0006380832</td>\n",
       "      <td>Empires of the Monsoon</td>\n",
       "      <td>A History of the Indian Ocean and Its Invaders</td>\n",
       "      <td>Richard Hall</td>\n",
       "      <td>Africa, East</td>\n",
       "      <td>http://books.google.com/books/content?id=MuPEQ...</td>\n",
       "      <td>Until Vasco da Gama discovered the sea-route t...</td>\n",
       "      <td>1998.0</td>\n",
       "      <td>4.41</td>\n",
       "      <td>608.0</td>\n",
       "      <td>65.0</td>\n",
       "    </tr>\n",
       "    <tr>\n",
       "      <th>8</th>\n",
       "      <td>9780006470229</td>\n",
       "      <td>000647022X</td>\n",
       "      <td>The Gap Into Madness</td>\n",
       "      <td>Chaos and Order</td>\n",
       "      <td>Stephen R. Donaldson</td>\n",
       "      <td>Hyland, Morn (Fictitious character)</td>\n",
       "      <td>http://books.google.com/books/content?id=4oXav...</td>\n",
       "      <td>A new-cover reissue of the fourth book in the ...</td>\n",
       "      <td>1994.0</td>\n",
       "      <td>4.15</td>\n",
       "      <td>743.0</td>\n",
       "      <td>103.0</td>\n",
       "    </tr>\n",
       "    <tr>\n",
       "      <th>9</th>\n",
       "      <td>9780006472612</td>\n",
       "      <td>0006472613</td>\n",
       "      <td>Master of the Game</td>\n",
       "      <td>NaN</td>\n",
       "      <td>Sidney Sheldon</td>\n",
       "      <td>Adventure stories</td>\n",
       "      <td>http://books.google.com/books/content?id=TkTYp...</td>\n",
       "      <td>Kate Blackwell is an enigma and one of the mos...</td>\n",
       "      <td>1982.0</td>\n",
       "      <td>4.11</td>\n",
       "      <td>489.0</td>\n",
       "      <td>43540.0</td>\n",
       "    </tr>\n",
       "  </tbody>\n",
       "</table>\n",
       "</div>"
      ],
      "text/plain": [
       "          isbn13      isbn10                   title  \\\n",
       "0  9780002005883  0002005883                  Gilead   \n",
       "1  9780002261982  0002261987            Spider's Web   \n",
       "2  9780006163831  0006163831            The One Tree   \n",
       "3  9780006178736  0006178731          Rage of angels   \n",
       "4  9780006280897  0006280897          The Four Loves   \n",
       "5  9780006280934  0006280935     The Problem of Pain   \n",
       "6  9780006353287  0006353282        An Autobiography   \n",
       "7  9780006380832  0006380832  Empires of the Monsoon   \n",
       "8  9780006470229  000647022X    The Gap Into Madness   \n",
       "9  9780006472612  0006472613      Master of the Game   \n",
       "\n",
       "                                         subtitle  \\\n",
       "0                                             NaN   \n",
       "1                                         A Novel   \n",
       "2                                             NaN   \n",
       "3                                             NaN   \n",
       "4                                             NaN   \n",
       "5                                             NaN   \n",
       "6                                             NaN   \n",
       "7  A History of the Indian Ocean and Its Invaders   \n",
       "8                                 Chaos and Order   \n",
       "9                                             NaN   \n",
       "\n",
       "                           authors                           categories  \\\n",
       "0               Marilynne Robinson                              Fiction   \n",
       "1  Charles Osborne;Agatha Christie        Detective and mystery stories   \n",
       "2             Stephen R. Donaldson                     American fiction   \n",
       "3                   Sidney Sheldon                              Fiction   \n",
       "4              Clive Staples Lewis                       Christian life   \n",
       "5              Clive Staples Lewis                       Christian life   \n",
       "6                  Agatha Christie                     Authors, English   \n",
       "7                     Richard Hall                         Africa, East   \n",
       "8             Stephen R. Donaldson  Hyland, Morn (Fictitious character)   \n",
       "9                   Sidney Sheldon                    Adventure stories   \n",
       "\n",
       "                                           thumbnail  \\\n",
       "0  http://books.google.com/books/content?id=KQZCP...   \n",
       "1  http://books.google.com/books/content?id=gA5GP...   \n",
       "2  http://books.google.com/books/content?id=OmQaw...   \n",
       "3  http://books.google.com/books/content?id=FKo2T...   \n",
       "4  http://books.google.com/books/content?id=XhQ5X...   \n",
       "5  http://books.google.com/books/content?id=Kk-uV...   \n",
       "6  http://books.google.com/books/content?id=c49GQ...   \n",
       "7  http://books.google.com/books/content?id=MuPEQ...   \n",
       "8  http://books.google.com/books/content?id=4oXav...   \n",
       "9  http://books.google.com/books/content?id=TkTYp...   \n",
       "\n",
       "                                         description  published_year  \\\n",
       "0  A NOVEL THAT READERS and critics have been eag...          2004.0   \n",
       "1  A new 'Christie for Christmas' -- a full-lengt...          2000.0   \n",
       "2  Volume Two of Stephen Donaldson's acclaimed se...          1982.0   \n",
       "3  A memorable, mesmerizing heroine Jennifer -- b...          1993.0   \n",
       "4  Lewis' work on the nature of love divides love...          2002.0   \n",
       "5  \"In The Problem of Pain, C.S. Lewis, one of th...          2002.0   \n",
       "6                                          Donation.          1977.0   \n",
       "7  Until Vasco da Gama discovered the sea-route t...          1998.0   \n",
       "8  A new-cover reissue of the fourth book in the ...          1994.0   \n",
       "9  Kate Blackwell is an enigma and one of the mos...          1982.0   \n",
       "\n",
       "   average_rating  num_pages  ratings_count  \n",
       "0            3.85      247.0          361.0  \n",
       "1            3.83      241.0         5164.0  \n",
       "2            3.97      479.0          172.0  \n",
       "3            3.93      512.0        29532.0  \n",
       "4            4.15      170.0        33684.0  \n",
       "5            4.09      176.0        37569.0  \n",
       "6            4.27      560.0         3975.0  \n",
       "7            4.41      608.0           65.0  \n",
       "8            4.15      743.0          103.0  \n",
       "9            4.11      489.0        43540.0  "
      ]
     },
     "execution_count": 4,
     "metadata": {},
     "output_type": "execute_result"
    }
   ],
   "source": [
    "df.head(10)"
   ]
  },
  {
   "cell_type": "code",
   "execution_count": 5,
   "metadata": {},
   "outputs": [
    {
     "data": {
      "text/plain": [
       "isbn13              int64\n",
       "isbn10             object\n",
       "title              object\n",
       "subtitle           object\n",
       "authors            object\n",
       "categories         object\n",
       "thumbnail          object\n",
       "description        object\n",
       "published_year    float64\n",
       "average_rating    float64\n",
       "num_pages         float64\n",
       "ratings_count     float64\n",
       "dtype: object"
      ]
     },
     "execution_count": 5,
     "metadata": {},
     "output_type": "execute_result"
    }
   ],
   "source": [
    "df.dtypes"
   ]
  },
  {
   "cell_type": "code",
   "execution_count": 6,
   "metadata": {},
   "outputs": [
    {
     "data": {
      "text/html": [
       "<div>\n",
       "<style scoped>\n",
       "    .dataframe tbody tr th:only-of-type {\n",
       "        vertical-align: middle;\n",
       "    }\n",
       "\n",
       "    .dataframe tbody tr th {\n",
       "        vertical-align: top;\n",
       "    }\n",
       "\n",
       "    .dataframe thead th {\n",
       "        text-align: right;\n",
       "    }\n",
       "</style>\n",
       "<table border=\"1\" class=\"dataframe\">\n",
       "  <thead>\n",
       "    <tr style=\"text-align: right;\">\n",
       "      <th></th>\n",
       "      <th>isbn13</th>\n",
       "      <th>published_year</th>\n",
       "      <th>average_rating</th>\n",
       "      <th>num_pages</th>\n",
       "      <th>ratings_count</th>\n",
       "    </tr>\n",
       "  </thead>\n",
       "  <tbody>\n",
       "    <tr>\n",
       "      <th>count</th>\n",
       "      <td>6.810000e+03</td>\n",
       "      <td>6804.000000</td>\n",
       "      <td>6767.000000</td>\n",
       "      <td>6767.000000</td>\n",
       "      <td>6.767000e+03</td>\n",
       "    </tr>\n",
       "    <tr>\n",
       "      <th>mean</th>\n",
       "      <td>9.780677e+12</td>\n",
       "      <td>1998.630364</td>\n",
       "      <td>3.933284</td>\n",
       "      <td>348.181026</td>\n",
       "      <td>2.106910e+04</td>\n",
       "    </tr>\n",
       "    <tr>\n",
       "      <th>std</th>\n",
       "      <td>6.068911e+08</td>\n",
       "      <td>10.484257</td>\n",
       "      <td>0.331352</td>\n",
       "      <td>242.376783</td>\n",
       "      <td>1.376207e+05</td>\n",
       "    </tr>\n",
       "    <tr>\n",
       "      <th>min</th>\n",
       "      <td>9.780002e+12</td>\n",
       "      <td>1853.000000</td>\n",
       "      <td>0.000000</td>\n",
       "      <td>0.000000</td>\n",
       "      <td>0.000000e+00</td>\n",
       "    </tr>\n",
       "    <tr>\n",
       "      <th>25%</th>\n",
       "      <td>9.780330e+12</td>\n",
       "      <td>1996.000000</td>\n",
       "      <td>3.770000</td>\n",
       "      <td>208.000000</td>\n",
       "      <td>1.590000e+02</td>\n",
       "    </tr>\n",
       "    <tr>\n",
       "      <th>50%</th>\n",
       "      <td>9.780553e+12</td>\n",
       "      <td>2002.000000</td>\n",
       "      <td>3.960000</td>\n",
       "      <td>304.000000</td>\n",
       "      <td>1.018000e+03</td>\n",
       "    </tr>\n",
       "    <tr>\n",
       "      <th>75%</th>\n",
       "      <td>9.780810e+12</td>\n",
       "      <td>2005.000000</td>\n",
       "      <td>4.130000</td>\n",
       "      <td>420.000000</td>\n",
       "      <td>5.992500e+03</td>\n",
       "    </tr>\n",
       "    <tr>\n",
       "      <th>max</th>\n",
       "      <td>9.789042e+12</td>\n",
       "      <td>2019.000000</td>\n",
       "      <td>5.000000</td>\n",
       "      <td>3342.000000</td>\n",
       "      <td>5.629932e+06</td>\n",
       "    </tr>\n",
       "  </tbody>\n",
       "</table>\n",
       "</div>"
      ],
      "text/plain": [
       "             isbn13  published_year  average_rating    num_pages  \\\n",
       "count  6.810000e+03     6804.000000     6767.000000  6767.000000   \n",
       "mean   9.780677e+12     1998.630364        3.933284   348.181026   \n",
       "std    6.068911e+08       10.484257        0.331352   242.376783   \n",
       "min    9.780002e+12     1853.000000        0.000000     0.000000   \n",
       "25%    9.780330e+12     1996.000000        3.770000   208.000000   \n",
       "50%    9.780553e+12     2002.000000        3.960000   304.000000   \n",
       "75%    9.780810e+12     2005.000000        4.130000   420.000000   \n",
       "max    9.789042e+12     2019.000000        5.000000  3342.000000   \n",
       "\n",
       "       ratings_count  \n",
       "count   6.767000e+03  \n",
       "mean    2.106910e+04  \n",
       "std     1.376207e+05  \n",
       "min     0.000000e+00  \n",
       "25%     1.590000e+02  \n",
       "50%     1.018000e+03  \n",
       "75%     5.992500e+03  \n",
       "max     5.629932e+06  "
      ]
     },
     "execution_count": 6,
     "metadata": {},
     "output_type": "execute_result"
    }
   ],
   "source": [
    "df.describe()"
   ]
  },
  {
   "cell_type": "markdown",
   "metadata": {},
   "source": [
    "## Columna ISBN13"
   ]
  },
  {
   "cell_type": "code",
   "execution_count": 7,
   "metadata": {},
   "outputs": [
    {
     "data": {
      "text/plain": [
       "isbn13\n",
       "9789042003408    1\n",
       "9780002005883    1\n",
       "9780002261982    1\n",
       "9780006163831    1\n",
       "9780006178736    1\n",
       "                ..\n",
       "9780006483892    1\n",
       "9780006483014    1\n",
       "9780006482079    1\n",
       "9780006480099    1\n",
       "9780006479673    1\n",
       "Name: count, Length: 6810, dtype: int64"
      ]
     },
     "execution_count": 7,
     "metadata": {},
     "output_type": "execute_result"
    }
   ],
   "source": [
    "df[\"isbn13\"].value_counts()"
   ]
  },
  {
   "cell_type": "code",
   "execution_count": 8,
   "metadata": {},
   "outputs": [
    {
     "data": {
      "text/plain": [
       "isbn10\n",
       "9042003405    1\n",
       "0002005883    1\n",
       "0002261987    1\n",
       "0006163831    1\n",
       "0006178731    1\n",
       "             ..\n",
       "0006483895    1\n",
       "0006483011    1\n",
       "0006482074    1\n",
       "0006480098    1\n",
       "0006479677    1\n",
       "Name: count, Length: 6810, dtype: int64"
      ]
     },
     "execution_count": 8,
     "metadata": {},
     "output_type": "execute_result"
    }
   ],
   "source": [
    "df[\"isbn10\"].value_counts()"
   ]
  },
  {
   "cell_type": "markdown",
   "metadata": {},
   "source": [
    "## COLUMNA title"
   ]
  },
  {
   "cell_type": "code",
   "execution_count": 9,
   "metadata": {},
   "outputs": [],
   "source": [
    "def contar_valores_vacios(df, column):\n",
    "    numero_filas = df[column].shape[0]\n",
    "    numero_filas_unicas = df[column].unique().shape[0]\n",
    "    porcentaje_de_unicos = round(numero_filas_unicas/numero_filas*100, 2)\n",
    "    numero_filas_vacias = df[column].isna().sum()\n",
    "    porcentaje_de_vacios = round(numero_filas_vacias/numero_filas*100, 2)\n",
    "    print(\"¿Cuántas filas tiene la columna?\", numero_filas)\n",
    "    print(\"-\"*20)\n",
    "    print(\"¿Cuántas filas únicas tiene la columna?\", numero_filas_unicas)\n",
    "    print(\"¿Qué porcentaje de los valores de la columna son únicos?\", porcentaje_de_unicos)\n",
    "    print(\"-\"*20)\n",
    "    print(\"¿Cuántas filas vacías tiene la columna?\", numero_filas_vacias)\n",
    "    print(\"¿Qué porcentaje de los valores de la columna son vacíos?\", porcentaje_de_vacios)"
   ]
  },
  {
   "cell_type": "code",
   "execution_count": 10,
   "metadata": {},
   "outputs": [
    {
     "name": "stdout",
     "output_type": "stream",
     "text": [
      "¿Cuántas filas tiene la columna? 6810\n",
      "--------------------\n",
      "¿Cuántas filas únicas tiene la columna? 6398\n",
      "¿Qué porcentaje de los valores de la columna son únicos? 93.95\n",
      "--------------------\n",
      "¿Cuántas filas vacías tiene la columna? 0\n",
      "¿Qué porcentaje de los valores de la columna son vacíos? 0.0\n"
     ]
    }
   ],
   "source": [
    "contar_valores_vacios(df, \"title\")"
   ]
  },
  {
   "cell_type": "markdown",
   "metadata": {},
   "source": [
    "## Columna subtitle"
   ]
  },
  {
   "cell_type": "code",
   "execution_count": 11,
   "metadata": {},
   "outputs": [
    {
     "name": "stdout",
     "output_type": "stream",
     "text": [
      "¿Cuántas filas tiene la columna? 6810\n",
      "--------------------\n",
      "¿Cuántas filas únicas tiene la columna? 2010\n",
      "¿Qué porcentaje de los valores de la columna son únicos? 29.52\n",
      "--------------------\n",
      "¿Cuántas filas vacías tiene la columna? 4429\n",
      "¿Qué porcentaje de los valores de la columna son vacíos? 65.04\n"
     ]
    }
   ],
   "source": [
    "contar_valores_vacios(df, \"subtitle\")"
   ]
  },
  {
   "cell_type": "code",
   "execution_count": 12,
   "metadata": {},
   "outputs": [
    {
     "data": {
      "text/html": [
       "<div>\n",
       "<style scoped>\n",
       "    .dataframe tbody tr th:only-of-type {\n",
       "        vertical-align: middle;\n",
       "    }\n",
       "\n",
       "    .dataframe tbody tr th {\n",
       "        vertical-align: top;\n",
       "    }\n",
       "\n",
       "    .dataframe thead th {\n",
       "        text-align: right;\n",
       "    }\n",
       "</style>\n",
       "<table border=\"1\" class=\"dataframe\">\n",
       "  <thead>\n",
       "    <tr style=\"text-align: right;\">\n",
       "      <th></th>\n",
       "      <th>isbn13</th>\n",
       "      <th>isbn10</th>\n",
       "      <th>title</th>\n",
       "      <th>subtitle</th>\n",
       "      <th>authors</th>\n",
       "      <th>categories</th>\n",
       "      <th>thumbnail</th>\n",
       "      <th>description</th>\n",
       "      <th>published_year</th>\n",
       "      <th>average_rating</th>\n",
       "      <th>num_pages</th>\n",
       "      <th>ratings_count</th>\n",
       "    </tr>\n",
       "  </thead>\n",
       "  <tbody>\n",
       "    <tr>\n",
       "      <th>58</th>\n",
       "      <td>9780007124015</td>\n",
       "      <td>0007124015</td>\n",
       "      <td>The Lord of the Rings</td>\n",
       "      <td>NaN</td>\n",
       "      <td>J. R. R. Tolkien</td>\n",
       "      <td>Baggins, Frodo (Fictitious character)</td>\n",
       "      <td>NaN</td>\n",
       "      <td>Sauron has gathered the Rings of Power - the m...</td>\n",
       "      <td>2001.0</td>\n",
       "      <td>4.49</td>\n",
       "      <td>1546.0</td>\n",
       "      <td>187.0</td>\n",
       "    </tr>\n",
       "    <tr>\n",
       "      <th>63</th>\n",
       "      <td>9780007135653</td>\n",
       "      <td>0007135653</td>\n",
       "      <td>The Lord of the Rings</td>\n",
       "      <td>The Art of The Return of the King</td>\n",
       "      <td>Gary Russell</td>\n",
       "      <td>Characters and characteristics in motion pictures</td>\n",
       "      <td>http://books.google.com/books/content?id=oEZ6A...</td>\n",
       "      <td>With complete access to artwork created over a...</td>\n",
       "      <td>2004.0</td>\n",
       "      <td>4.54</td>\n",
       "      <td>224.0</td>\n",
       "      <td>28.0</td>\n",
       "    </tr>\n",
       "    <tr>\n",
       "      <th>64</th>\n",
       "      <td>9780007136582</td>\n",
       "      <td>0007136587</td>\n",
       "      <td>The Lord of the Rings</td>\n",
       "      <td>NaN</td>\n",
       "      <td>John Ronald Reuel Tolkien</td>\n",
       "      <td>Fantasy fiction, English</td>\n",
       "      <td>http://books.google.com/books/content?id=LwO-v...</td>\n",
       "      <td>Since it was first published in 1954, 'The Lor...</td>\n",
       "      <td>2002.0</td>\n",
       "      <td>4.49</td>\n",
       "      <td>1200.0</td>\n",
       "      <td>680.0</td>\n",
       "    </tr>\n",
       "    <tr>\n",
       "      <th>1349</th>\n",
       "      <td>9780261102309</td>\n",
       "      <td>0261102303</td>\n",
       "      <td>The Lord of the Rings</td>\n",
       "      <td>NaN</td>\n",
       "      <td>J. R. R. Tolkien</td>\n",
       "      <td>Fiction</td>\n",
       "      <td>http://books.google.com/books/content?id=9wu1Q...</td>\n",
       "      <td>This single volume edition of J.R.R Tolkien's ...</td>\n",
       "      <td>1991.0</td>\n",
       "      <td>4.49</td>\n",
       "      <td>1200.0</td>\n",
       "      <td>550.0</td>\n",
       "    </tr>\n",
       "    <tr>\n",
       "      <th>2500</th>\n",
       "      <td>9780395647417</td>\n",
       "      <td>039564741X</td>\n",
       "      <td>The Lord of the Rings</td>\n",
       "      <td>NaN</td>\n",
       "      <td>J. R. R. Tolkien;Alan Lee</td>\n",
       "      <td>Fiction</td>\n",
       "      <td>NaN</td>\n",
       "      <td>The three books that make up The Lord of the R...</td>\n",
       "      <td>1992.0</td>\n",
       "      <td>NaN</td>\n",
       "      <td>NaN</td>\n",
       "      <td>NaN</td>\n",
       "    </tr>\n",
       "    <tr>\n",
       "      <th>3731</th>\n",
       "      <td>9780618153978</td>\n",
       "      <td>0618153977</td>\n",
       "      <td>The Lord of the Rings</td>\n",
       "      <td>NaN</td>\n",
       "      <td>J. R. R. Tolkien</td>\n",
       "      <td>Fiction</td>\n",
       "      <td>http://books.google.com/books/content?id=Ye0OA...</td>\n",
       "      <td>Beginning on December 19, New Line Cinema will...</td>\n",
       "      <td>2001.0</td>\n",
       "      <td>4.49</td>\n",
       "      <td>1223.0</td>\n",
       "      <td>216.0</td>\n",
       "    </tr>\n",
       "    <tr>\n",
       "      <th>3739</th>\n",
       "      <td>9780618258024</td>\n",
       "      <td>0618258027</td>\n",
       "      <td>The Lord of the Rings</td>\n",
       "      <td>The Two Towers : Visual Companion</td>\n",
       "      <td>Jude Fisher</td>\n",
       "      <td>Fiction</td>\n",
       "      <td>http://books.google.com/books/content?id=_2qFv...</td>\n",
       "      <td>Explores the people, places, and ideas found i...</td>\n",
       "      <td>2002.0</td>\n",
       "      <td>4.51</td>\n",
       "      <td>72.0</td>\n",
       "      <td>4501.0</td>\n",
       "    </tr>\n",
       "    <tr>\n",
       "      <th>3740</th>\n",
       "      <td>9780618260225</td>\n",
       "      <td>0618260226</td>\n",
       "      <td>The Lord of the Rings</td>\n",
       "      <td>The Making of the Movie Trilogy</td>\n",
       "      <td>Brian Sibley</td>\n",
       "      <td>Performing Arts</td>\n",
       "      <td>http://books.google.com/books/content?id=7bT5g...</td>\n",
       "      <td>Discusses the making of the movie trilogy base...</td>\n",
       "      <td>2002.0</td>\n",
       "      <td>4.46</td>\n",
       "      <td>192.0</td>\n",
       "      <td>7624.0</td>\n",
       "    </tr>\n",
       "    <tr>\n",
       "      <th>3742</th>\n",
       "      <td>9780618260584</td>\n",
       "      <td>0618260587</td>\n",
       "      <td>The Lord of the Rings</td>\n",
       "      <td>NaN</td>\n",
       "      <td>John Ronald Reuel Tolkien</td>\n",
       "      <td>Fiction</td>\n",
       "      <td>http://books.google.com/books/content?id=c-izu...</td>\n",
       "      <td>An epic detailing the Great War of the Ring, a...</td>\n",
       "      <td>2002.0</td>\n",
       "      <td>4.49</td>\n",
       "      <td>1216.0</td>\n",
       "      <td>1606.0</td>\n",
       "    </tr>\n",
       "    <tr>\n",
       "      <th>3747</th>\n",
       "      <td>9780618391004</td>\n",
       "      <td>0618391002</td>\n",
       "      <td>The Lord of the Rings</td>\n",
       "      <td>Weapons and Warfare</td>\n",
       "      <td>Chris Smith</td>\n",
       "      <td>Literary Criticism</td>\n",
       "      <td>http://books.google.com/books/content?id=Wu8x5...</td>\n",
       "      <td>Describes in detail, with over one thousand ph...</td>\n",
       "      <td>2003.0</td>\n",
       "      <td>4.53</td>\n",
       "      <td>218.0</td>\n",
       "      <td>18934.0</td>\n",
       "    </tr>\n",
       "    <tr>\n",
       "      <th>4290</th>\n",
       "      <td>9780739409558</td>\n",
       "      <td>0739409557</td>\n",
       "      <td>The Lord of the Rings</td>\n",
       "      <td>NaN</td>\n",
       "      <td>NaN</td>\n",
       "      <td>Baggins, Frodo (Fictitious character)</td>\n",
       "      <td>NaN</td>\n",
       "      <td>An epic detailing the Great War of the Ring, a...</td>\n",
       "      <td>2002.0</td>\n",
       "      <td>4.49</td>\n",
       "      <td>1137.0</td>\n",
       "      <td>94.0</td>\n",
       "    </tr>\n",
       "  </tbody>\n",
       "</table>\n",
       "</div>"
      ],
      "text/plain": [
       "             isbn13      isbn10                  title  \\\n",
       "58    9780007124015  0007124015  The Lord of the Rings   \n",
       "63    9780007135653  0007135653  The Lord of the Rings   \n",
       "64    9780007136582  0007136587  The Lord of the Rings   \n",
       "1349  9780261102309  0261102303  The Lord of the Rings   \n",
       "2500  9780395647417  039564741X  The Lord of the Rings   \n",
       "3731  9780618153978  0618153977  The Lord of the Rings   \n",
       "3739  9780618258024  0618258027  The Lord of the Rings   \n",
       "3740  9780618260225  0618260226  The Lord of the Rings   \n",
       "3742  9780618260584  0618260587  The Lord of the Rings   \n",
       "3747  9780618391004  0618391002  The Lord of the Rings   \n",
       "4290  9780739409558  0739409557  The Lord of the Rings   \n",
       "\n",
       "                               subtitle                    authors  \\\n",
       "58                                  NaN           J. R. R. Tolkien   \n",
       "63    The Art of The Return of the King               Gary Russell   \n",
       "64                                  NaN  John Ronald Reuel Tolkien   \n",
       "1349                                NaN           J. R. R. Tolkien   \n",
       "2500                                NaN  J. R. R. Tolkien;Alan Lee   \n",
       "3731                                NaN           J. R. R. Tolkien   \n",
       "3739  The Two Towers : Visual Companion                Jude Fisher   \n",
       "3740    The Making of the Movie Trilogy               Brian Sibley   \n",
       "3742                                NaN  John Ronald Reuel Tolkien   \n",
       "3747                Weapons and Warfare                Chris Smith   \n",
       "4290                                NaN                        NaN   \n",
       "\n",
       "                                             categories  \\\n",
       "58                Baggins, Frodo (Fictitious character)   \n",
       "63    Characters and characteristics in motion pictures   \n",
       "64                             Fantasy fiction, English   \n",
       "1349                                            Fiction   \n",
       "2500                                            Fiction   \n",
       "3731                                            Fiction   \n",
       "3739                                            Fiction   \n",
       "3740                                    Performing Arts   \n",
       "3742                                            Fiction   \n",
       "3747                                 Literary Criticism   \n",
       "4290              Baggins, Frodo (Fictitious character)   \n",
       "\n",
       "                                              thumbnail  \\\n",
       "58                                                  NaN   \n",
       "63    http://books.google.com/books/content?id=oEZ6A...   \n",
       "64    http://books.google.com/books/content?id=LwO-v...   \n",
       "1349  http://books.google.com/books/content?id=9wu1Q...   \n",
       "2500                                                NaN   \n",
       "3731  http://books.google.com/books/content?id=Ye0OA...   \n",
       "3739  http://books.google.com/books/content?id=_2qFv...   \n",
       "3740  http://books.google.com/books/content?id=7bT5g...   \n",
       "3742  http://books.google.com/books/content?id=c-izu...   \n",
       "3747  http://books.google.com/books/content?id=Wu8x5...   \n",
       "4290                                                NaN   \n",
       "\n",
       "                                            description  published_year  \\\n",
       "58    Sauron has gathered the Rings of Power - the m...          2001.0   \n",
       "63    With complete access to artwork created over a...          2004.0   \n",
       "64    Since it was first published in 1954, 'The Lor...          2002.0   \n",
       "1349  This single volume edition of J.R.R Tolkien's ...          1991.0   \n",
       "2500  The three books that make up The Lord of the R...          1992.0   \n",
       "3731  Beginning on December 19, New Line Cinema will...          2001.0   \n",
       "3739  Explores the people, places, and ideas found i...          2002.0   \n",
       "3740  Discusses the making of the movie trilogy base...          2002.0   \n",
       "3742  An epic detailing the Great War of the Ring, a...          2002.0   \n",
       "3747  Describes in detail, with over one thousand ph...          2003.0   \n",
       "4290  An epic detailing the Great War of the Ring, a...          2002.0   \n",
       "\n",
       "      average_rating  num_pages  ratings_count  \n",
       "58              4.49     1546.0          187.0  \n",
       "63              4.54      224.0           28.0  \n",
       "64              4.49     1200.0          680.0  \n",
       "1349            4.49     1200.0          550.0  \n",
       "2500             NaN        NaN            NaN  \n",
       "3731            4.49     1223.0          216.0  \n",
       "3739            4.51       72.0         4501.0  \n",
       "3740            4.46      192.0         7624.0  \n",
       "3742            4.49     1216.0         1606.0  \n",
       "3747            4.53      218.0        18934.0  \n",
       "4290            4.49     1137.0           94.0  "
      ]
     },
     "execution_count": 12,
     "metadata": {},
     "output_type": "execute_result"
    }
   ],
   "source": [
    "# Revisemos los subtitulos asociados a un mismo titulo\n",
    "df[df[\"title\"] == \"The Lord of the Rings\"]"
   ]
  },
  {
   "cell_type": "markdown",
   "metadata": {},
   "source": [
    "Algunos subtitulos distinguen entre distintos libros de la misma saga, los que no tienen subtitulos pueden ser distintas ediciones del mismo libro. \n",
    "El nombre del autor se escribe distinto en distintas versiones.\n",
    "Tener en cuenta que el average_rating y el rating_count son valores que deben ir en conjunto porque solo el av_rating no nos dice mucho."
   ]
  },
  {
   "cell_type": "markdown",
   "metadata": {},
   "source": [
    "## Columna authors"
   ]
  },
  {
   "cell_type": "code",
   "execution_count": 13,
   "metadata": {},
   "outputs": [
    {
     "name": "stdout",
     "output_type": "stream",
     "text": [
      "¿Cuántas filas tiene la columna? 6810\n",
      "--------------------\n",
      "¿Cuántas filas únicas tiene la columna? 3781\n",
      "¿Qué porcentaje de los valores de la columna son únicos? 55.52\n",
      "--------------------\n",
      "¿Cuántas filas vacías tiene la columna? 72\n",
      "¿Qué porcentaje de los valores de la columna son vacíos? 1.06\n"
     ]
    }
   ],
   "source": [
    "contar_valores_vacios(df, \"authors\")"
   ]
  },
  {
   "cell_type": "code",
   "execution_count": 14,
   "metadata": {},
   "outputs": [],
   "source": [
    "def find_chars_in_column(df, column_name, chars_to_find):\n",
    "    \"\"\"\n",
    "    Busca caracteres específicos en una columna del DataFrame\n",
    "    \n",
    "    Parámetros:\n",
    "    df: DataFrame de pandas\n",
    "    column_name: Nombre de la columna donde buscar\n",
    "    chars_to_find: String o lista de caracteres a buscar\n",
    "    \n",
    "    Retorna:\n",
    "    DataFrame con las filas que contienen los caracteres buscados\n",
    "    \"\"\"\n",
    "    if isinstance(chars_to_find, str):\n",
    "        return df[df[column_name].str.contains(chars_to_find, na=False)]\n",
    "    else:\n",
    "        pattern = '|'.join(chars_to_find)\n",
    "        return df[df[column_name].str.contains(pattern, na=False)]\n"
   ]
  },
  {
   "cell_type": "code",
   "execution_count": 15,
   "metadata": {},
   "outputs": [
    {
     "data": {
      "text/html": [
       "<div>\n",
       "<style scoped>\n",
       "    .dataframe tbody tr th:only-of-type {\n",
       "        vertical-align: middle;\n",
       "    }\n",
       "\n",
       "    .dataframe tbody tr th {\n",
       "        vertical-align: top;\n",
       "    }\n",
       "\n",
       "    .dataframe thead th {\n",
       "        text-align: right;\n",
       "    }\n",
       "</style>\n",
       "<table border=\"1\" class=\"dataframe\">\n",
       "  <thead>\n",
       "    <tr style=\"text-align: right;\">\n",
       "      <th></th>\n",
       "      <th>isbn13</th>\n",
       "      <th>isbn10</th>\n",
       "      <th>title</th>\n",
       "      <th>subtitle</th>\n",
       "      <th>authors</th>\n",
       "      <th>categories</th>\n",
       "      <th>thumbnail</th>\n",
       "      <th>description</th>\n",
       "      <th>published_year</th>\n",
       "      <th>average_rating</th>\n",
       "      <th>num_pages</th>\n",
       "      <th>ratings_count</th>\n",
       "    </tr>\n",
       "  </thead>\n",
       "  <tbody>\n",
       "    <tr>\n",
       "      <th>39</th>\n",
       "      <td>9780007105045</td>\n",
       "      <td>0007105045</td>\n",
       "      <td>Tree and Leaf</td>\n",
       "      <td>The Homecoming of Beorhtnoth : Beorhthelm's Son</td>\n",
       "      <td>John Ronald Reuel Tolkien</td>\n",
       "      <td>Literary Collections</td>\n",
       "      <td>http://books.google.com/books/content?id=aPb_A...</td>\n",
       "      <td>\"The two works 'On fairy-stories' and 'Leaf by...</td>\n",
       "      <td>2001.0</td>\n",
       "      <td>4.09</td>\n",
       "      <td>176.0</td>\n",
       "      <td>2245.0</td>\n",
       "    </tr>\n",
       "    <tr>\n",
       "      <th>58</th>\n",
       "      <td>9780007124015</td>\n",
       "      <td>0007124015</td>\n",
       "      <td>The Lord of the Rings</td>\n",
       "      <td>NaN</td>\n",
       "      <td>J. R. R. Tolkien</td>\n",
       "      <td>Baggins, Frodo (Fictitious character)</td>\n",
       "      <td>NaN</td>\n",
       "      <td>Sauron has gathered the Rings of Power - the m...</td>\n",
       "      <td>2001.0</td>\n",
       "      <td>4.49</td>\n",
       "      <td>1546.0</td>\n",
       "      <td>187.0</td>\n",
       "    </tr>\n",
       "    <tr>\n",
       "      <th>64</th>\n",
       "      <td>9780007136582</td>\n",
       "      <td>0007136587</td>\n",
       "      <td>The Lord of the Rings</td>\n",
       "      <td>NaN</td>\n",
       "      <td>John Ronald Reuel Tolkien</td>\n",
       "      <td>Fantasy fiction, English</td>\n",
       "      <td>http://books.google.com/books/content?id=LwO-v...</td>\n",
       "      <td>Since it was first published in 1954, 'The Lor...</td>\n",
       "      <td>2002.0</td>\n",
       "      <td>4.49</td>\n",
       "      <td>1200.0</td>\n",
       "      <td>680.0</td>\n",
       "    </tr>\n",
       "    <tr>\n",
       "      <th>65</th>\n",
       "      <td>9780007136599</td>\n",
       "      <td>0007136595</td>\n",
       "      <td>The Fellowship of the Ring</td>\n",
       "      <td>NaN</td>\n",
       "      <td>John Ronald Reuel Tolkien;Alan Lee</td>\n",
       "      <td>Baggins, Frodo (Fictitious character)</td>\n",
       "      <td>http://books.google.com/books/content?id=K7xSP...</td>\n",
       "      <td>Tolkien's classic fantasy about the quest to s...</td>\n",
       "      <td>2002.0</td>\n",
       "      <td>4.35</td>\n",
       "      <td>410.0</td>\n",
       "      <td>56.0</td>\n",
       "    </tr>\n",
       "    <tr>\n",
       "      <th>67</th>\n",
       "      <td>9780007149124</td>\n",
       "      <td>0007149123</td>\n",
       "      <td>Tales from the Perilous Realm</td>\n",
       "      <td>NaN</td>\n",
       "      <td>John Ronald Reuel Tolkien</td>\n",
       "      <td>Fairy tales, English</td>\n",
       "      <td>http://books.google.com/books/content?id=Wla7N...</td>\n",
       "      <td>Never before published in a single volume, Tol...</td>\n",
       "      <td>2002.0</td>\n",
       "      <td>4.08</td>\n",
       "      <td>178.0</td>\n",
       "      <td>2964.0</td>\n",
       "    </tr>\n",
       "  </tbody>\n",
       "</table>\n",
       "</div>"
      ],
      "text/plain": [
       "           isbn13      isbn10                          title  \\\n",
       "39  9780007105045  0007105045                  Tree and Leaf   \n",
       "58  9780007124015  0007124015          The Lord of the Rings   \n",
       "64  9780007136582  0007136587          The Lord of the Rings   \n",
       "65  9780007136599  0007136595     The Fellowship of the Ring   \n",
       "67  9780007149124  0007149123  Tales from the Perilous Realm   \n",
       "\n",
       "                                           subtitle  \\\n",
       "39  The Homecoming of Beorhtnoth : Beorhthelm's Son   \n",
       "58                                              NaN   \n",
       "64                                              NaN   \n",
       "65                                              NaN   \n",
       "67                                              NaN   \n",
       "\n",
       "                               authors                             categories  \\\n",
       "39           John Ronald Reuel Tolkien                   Literary Collections   \n",
       "58                    J. R. R. Tolkien  Baggins, Frodo (Fictitious character)   \n",
       "64           John Ronald Reuel Tolkien               Fantasy fiction, English   \n",
       "65  John Ronald Reuel Tolkien;Alan Lee  Baggins, Frodo (Fictitious character)   \n",
       "67           John Ronald Reuel Tolkien                   Fairy tales, English   \n",
       "\n",
       "                                            thumbnail  \\\n",
       "39  http://books.google.com/books/content?id=aPb_A...   \n",
       "58                                                NaN   \n",
       "64  http://books.google.com/books/content?id=LwO-v...   \n",
       "65  http://books.google.com/books/content?id=K7xSP...   \n",
       "67  http://books.google.com/books/content?id=Wla7N...   \n",
       "\n",
       "                                          description  published_year  \\\n",
       "39  \"The two works 'On fairy-stories' and 'Leaf by...          2001.0   \n",
       "58  Sauron has gathered the Rings of Power - the m...          2001.0   \n",
       "64  Since it was first published in 1954, 'The Lor...          2002.0   \n",
       "65  Tolkien's classic fantasy about the quest to s...          2002.0   \n",
       "67  Never before published in a single volume, Tol...          2002.0   \n",
       "\n",
       "    average_rating  num_pages  ratings_count  \n",
       "39            4.09      176.0         2245.0  \n",
       "58            4.49     1546.0          187.0  \n",
       "64            4.49     1200.0          680.0  \n",
       "65            4.35      410.0           56.0  \n",
       "67            4.08      178.0         2964.0  "
      ]
     },
     "execution_count": 15,
     "metadata": {},
     "output_type": "execute_result"
    }
   ],
   "source": [
    "find_chars_in_column(df, \"authors\", \"Tolkien\").head(5)"
   ]
  },
  {
   "cell_type": "markdown",
   "metadata": {},
   "source": [
    "## Columna categories"
   ]
  },
  {
   "cell_type": "code",
   "execution_count": 16,
   "metadata": {},
   "outputs": [
    {
     "name": "stdout",
     "output_type": "stream",
     "text": [
      "¿Cuántas filas tiene la columna? 6810\n",
      "--------------------\n",
      "¿Cuántas filas únicas tiene la columna? 568\n",
      "¿Qué porcentaje de los valores de la columna son únicos? 8.34\n",
      "--------------------\n",
      "¿Cuántas filas vacías tiene la columna? 99\n",
      "¿Qué porcentaje de los valores de la columna son vacíos? 1.45\n"
     ]
    }
   ],
   "source": [
    "contar_valores_vacios(df,'categories')"
   ]
  },
  {
   "cell_type": "code",
   "execution_count": 17,
   "metadata": {},
   "outputs": [],
   "source": [
    "\n",
    "def plot_distribution(df, column, figsize=(12,6), color='#2ecc71', title_size=14, label_size=12):\n",
    "    \"\"\"\n",
    "    Crea una visualización profesional de la distribución de valores de una columna\n",
    "    \n",
    "    Parámetros:\n",
    "    df: DataFrame de pandas\n",
    "    column: Nombre de la columna a visualizar\n",
    "    figsize: Tupla con el tamaño de la figura\n",
    "    color: Color del histograma\n",
    "    title_size: Tamaño del título\n",
    "    label_size: Tamaño de las etiquetas\n",
    "    \"\"\"\n",
    "    import seaborn as sns\n",
    "    import matplotlib.pyplot as plt\n",
    "    \n",
    "    # Crear la figura\n",
    "    fig, ax = plt.subplots(figsize=figsize)\n",
    "    \n",
    "    # Crear el histograma con KDE\n",
    "    sns.histplot(data=df, x=column, kde=True, color=color, alpha=0.6)\n",
    "    \n",
    "    # Personalizar el título y etiquetas\n",
    "    plt.title(f'Distribución de {column}', fontsize=title_size, pad=20)\n",
    "    plt.xlabel(column, fontsize=label_size)\n",
    "    plt.ylabel('Frecuencia', fontsize=label_size)\n",
    "    \n",
    "    # Añadir estadísticas descriptivas\n",
    "    stats = f'Media: {df[column].mean():.2f}\\nMediana: {df[column].median():.2f}\\nDesv. Est.: {df[column].std():.2f}'\n",
    "    plt.text(0.95, 0.95, stats,\n",
    "             transform=ax.transAxes,\n",
    "             verticalalignment='top',\n",
    "             horizontalalignment='right',\n",
    "             bbox=dict(boxstyle='round', facecolor='white', alpha=0.8))\n",
    "    \n",
    "    # Ajustar los márgenes\n",
    "    plt.tight_layout()\n",
    "    \n",
    "    return plt\n"
   ]
  },
  {
   "cell_type": "code",
   "execution_count": 18,
   "metadata": {},
   "outputs": [
    {
     "data": {
      "text/plain": [
       "categories\n",
       "Fiction                      2588\n",
       "Juvenile Fiction              538\n",
       "Biography & Autobiography     401\n",
       "History                       264\n",
       "Literary Criticism            166\n",
       "Philosophy                    160\n",
       "Comics & Graphic Novels       159\n",
       "Religion                      137\n",
       "Drama                         132\n",
       "Juvenile Nonfiction           116\n",
       "Poetry                         79\n",
       "Science                        71\n",
       "Literary Collections           71\n",
       "Business & Economics           67\n",
       "Social Science                 60\n",
       "Name: count, dtype: int64"
      ]
     },
     "execution_count": 18,
     "metadata": {},
     "output_type": "execute_result"
    }
   ],
   "source": [
    "df['categories'].value_counts()[:15]"
   ]
  },
  {
   "cell_type": "markdown",
   "metadata": {},
   "source": [
    "Hay categorias que contienen a otras categorias, pero esta información no está explicita.\n",
    "hay algunas pocas categorias con mucha ocurrencia y muchas con poca ocurrencia."
   ]
  },
  {
   "cell_type": "markdown",
   "metadata": {},
   "source": [
    "## Columna thumbnail"
   ]
  },
  {
   "cell_type": "code",
   "execution_count": 19,
   "metadata": {},
   "outputs": [
    {
     "data": {
      "text/plain": [
       "0       http://books.google.com/books/content?id=KQZCP...\n",
       "1       http://books.google.com/books/content?id=gA5GP...\n",
       "2       http://books.google.com/books/content?id=OmQaw...\n",
       "3       http://books.google.com/books/content?id=FKo2T...\n",
       "4       http://books.google.com/books/content?id=XhQ5X...\n",
       "                              ...                        \n",
       "6805    http://books.google.com/books/content?id=Fv_JP...\n",
       "6806    http://books.google.com/books/content?id=XcrVp...\n",
       "6807                                                  NaN\n",
       "6808    http://books.google.com/books/content?id=Vy7Sk...\n",
       "6809    http://books.google.com/books/content?id=2lVyR...\n",
       "Name: thumbnail, Length: 6810, dtype: object"
      ]
     },
     "execution_count": 19,
     "metadata": {},
     "output_type": "execute_result"
    }
   ],
   "source": [
    "df['thumbnail']"
   ]
  },
  {
   "cell_type": "markdown",
   "metadata": {},
   "source": [
    "Links que no funcionan y para incluir esto seria necesario agregar un modelo de procesamiento de imágenes"
   ]
  },
  {
   "cell_type": "markdown",
   "metadata": {},
   "source": [
    "## Columna description"
   ]
  },
  {
   "cell_type": "code",
   "execution_count": 20,
   "metadata": {},
   "outputs": [
    {
     "name": "stdout",
     "output_type": "stream",
     "text": [
      "¿Cuántas filas tiene la columna? 6810\n",
      "--------------------\n",
      "¿Cuántas filas únicas tiene la columna? 6475\n",
      "¿Qué porcentaje de los valores de la columna son únicos? 95.08\n",
      "--------------------\n",
      "¿Cuántas filas vacías tiene la columna? 262\n",
      "¿Qué porcentaje de los valores de la columna son vacíos? 3.85\n"
     ]
    }
   ],
   "source": [
    "contar_valores_vacios(df,'description')"
   ]
  },
  {
   "cell_type": "code",
   "execution_count": 21,
   "metadata": {},
   "outputs": [
    {
     "data": {
      "text/plain": [
       "description\n",
       "No Marketing Blurb                                                                                                                                                                                                                                                                                                                                                                                                                                                                                                                                                                                                                                                                                                                                                                                                                                                                                                                                                                                                                                                                                                                                                                                                                                                                                                                                                                                                                                                                                                                                                                                         6\n",
       "This is a reproduction of the original artefact. Generally these books are created from careful scans of the original. This allows us to preserve the book accurately and present it in the way the author intended. Since the original versions are generally quite old, there may occasionally be certain imperfections within these reproductions. We're happy to make these classics available again for future generations to enjoy!                                                                                                                                                                                                                                                                                                                                                                                                                                                                                                                                                                                                                                                                                                                                                                                                                                                                                                                                                                                                                                                                                                                                                                  6\n",
       "Henry is generally well-behaved, but he is occasionally arrogant and vain. Henry is at heart a hard worker, but his frequent bouts of illness hinder his work.                                                                                                                                                                                                                                                                                                                                                                                                                                                                                                                                                                                                                                                                                                                                                                                                                                                                                                                                                                                                                                                                                                                                                                                                                                                                                                                                                                                                                                             5\n",
       "Sakura, the princess of Clow, has a strange power that could change the world, and lives in an alternate-reality world with her childhood friend Syaoran, with whom she begins a series of journeys to other worlds.                                                                                                                                                                                                                                                                                                                                                                                                                                                                                                                                                                                                                                                                                                                                                                                                                                                                                                                                                                                                                                                                                                                                                                                                                                                                                                                                                                                       4\n",
       "Presents the original text of Shakespeare's play side by side with a modern version, with marginal notes and explanations and full descriptions of each character.                                                                                                                                                                                                                                                                                                                                                                                                                                                                                                                                                                                                                                                                                                                                                                                                                                                                                                                                                                                                                                                                                                                                                                                                                                                                                                                                                                                                                                         4\n",
       "                                                                                                                                                                                                                                                                                                                                                                                                                                                                                                                                                                                                                                                                                                                                                                                                                                                                                                                                                                                                                                                                                                                                                                                                                                                                                                                                                                                                                                                                                                                                                                                                          ..\n",
       "This book tells the tale of a man who goes on a wonderful and amazing journey through Asia. His travels can also be seen as a parable of one person's search for enlightenment. Ever since this book's first publication in 1932, it has influenced generations of readers with its ideas on Eastern religion and Jungian psychology and its criticism of Western middleclass values.                                                                                                                                                                                                                                                                                                                                                                                                                                                                                                                                                                                                                                                                                                                                                                                                                                                                                                                                                                                                                                                                                                                                                                                                                      1\n",
       "Wisdom to Create a Life of Passion, Purpose, and Peace This inspiring tale provides a step-by-step approach to living with greater courage, balance, abundance, and joy. A wonderfully crafted fable, The Monk Who Sold His Ferrari tells the extraordinary story of Julian Mantle, a lawyer forced to confront the spiritual crisis of his out-of-balance life. On a life-changing odyssey to an ancient culture, he discovers powerful, wise, and practical lessons that teach us to: Develop joyful thoughts Follow our life's mission and calling Cultivate self-discipline and act courageously Value time as our most important commodity Nourish our relationships, and – live fully, one day at a time A FABLE ABOUT FULFILLING YOUR DREAMS AND REACHING YOUR DESTINY                                                                                                                                                                                                                                                                                                                                                                                                                                                                                                                                                                                                                                                                                                                                                                                                                              1\n",
       "This collection of the timeless teachings of one of the greatest sages of India, is a testament to the uniqueness of the seer's life and work. The book (now in its ninth printing) continues to draw new audiences and to enlighten anxious seekers for self-realisation. Sri Nisargadatta Maharaj was a teacher who did not propound any ideology or religion but gently unwrapped the mystery of the self. His message is simple, direct and yet sublime. The book preserves his dialogues with the followers who came from around the world seeking guidance in destroying false identities. The sage's sole concern was with human suffering and the ending of suffering. It was his mission to guide the individual to an understanding of his true nature and the timelessness of being. He taught that mind must recognise and penetrate its own state of being, not 'being this or that, here or there, then or now', but just timeless being. This is a legacy from a unique teacher who helps the reader to a clearer understanding of himself.                                                                                                                                                                                                                                                                                                                                                                                                                                                                                                                                                 1\n",
       "Since the three volume edition ofHegel's Philosophy of Subjective Spirit (1978, 19792) has been so well received, I have been encouraged to select that part of it most suitable for teaching purposes, and to publish it here as a separate work. As a teaching text, the Berlin Phenomenology has several important advan­ tages. Unlike so many ofHegel's writings, must notably theJena Phenomeno­ logy of 1807, it is concise and to the point, and concemed with issues already familiar to most students of philosophy. Since it consists for the most part of a searching and radical analysis of Kant's epistemology, Fichte's ethics and Schelling's system-building, it provides tirst-rate insight into Hegel's assessment of his immedi~te predecessors. When considered in context, as part of the Encyclopaedia if the Philosophical Sciences, it enables us to distinguish dearly between the systematic, the logical and the psychological aspects of Hegelianism, and is therefore also relevant to some of the central issues in modem phenomenology. It is to be hoped that the introduction and notes prepared for the present edition will prove helpful to both teachers and students. Every effort has been ma de to produce a thoroughly reliable ba sic text and an accurate translation. The text published in 1978 was prepared at the Hegel Archive in Bochum from photocopies, and I am most grateful to the Central Interfaculty of the Erasmus University, Rotterdam, for having made it possible for me to check the printed version against the original manuscripts.    1\n",
       "Until Vasco da Gama discovered the sea-route to the East in 1497-9 almost nothing was known in the West of the exotic cultures and wealth of the Indian Ocean and its peoples. It is this civilization and its destruction at the hands of the West that Richard Hall recreates in this book. Hall's history of the exploration and exploitation by Chinese and Arab travellers, and by the Portuguese, Dutch and British alike is one of brutality, betrayal and colonial ambition.                                                                                                                                                                                                                                                                                                                                                                                                                                                                                                                                                                                                                                                                                                                                                                                                                                                                                                                                                                                                                                                                                                                       1\n",
       "Name: count, Length: 6474, dtype: int64"
      ]
     },
     "execution_count": 21,
     "metadata": {},
     "output_type": "execute_result"
    }
   ],
   "source": [
    "df['description'].value_counts()"
   ]
  },
  {
   "cell_type": "code",
   "execution_count": 22,
   "metadata": {},
   "outputs": [
    {
     "data": {
      "text/html": [
       "<div>\n",
       "<style scoped>\n",
       "    .dataframe tbody tr th:only-of-type {\n",
       "        vertical-align: middle;\n",
       "    }\n",
       "\n",
       "    .dataframe tbody tr th {\n",
       "        vertical-align: top;\n",
       "    }\n",
       "\n",
       "    .dataframe thead th {\n",
       "        text-align: right;\n",
       "    }\n",
       "</style>\n",
       "<table border=\"1\" class=\"dataframe\">\n",
       "  <thead>\n",
       "    <tr style=\"text-align: right;\">\n",
       "      <th></th>\n",
       "      <th>isbn13</th>\n",
       "      <th>isbn10</th>\n",
       "      <th>title</th>\n",
       "      <th>subtitle</th>\n",
       "      <th>authors</th>\n",
       "      <th>categories</th>\n",
       "      <th>thumbnail</th>\n",
       "      <th>description</th>\n",
       "      <th>published_year</th>\n",
       "      <th>average_rating</th>\n",
       "      <th>num_pages</th>\n",
       "      <th>ratings_count</th>\n",
       "    </tr>\n",
       "  </thead>\n",
       "  <tbody>\n",
       "    <tr>\n",
       "      <th>5851</th>\n",
       "      <td>9781406904833</td>\n",
       "      <td>140690483X</td>\n",
       "      <td>Nöddebo Parsonage</td>\n",
       "      <td>A Story of Country Life in Denmark</td>\n",
       "      <td>Bentley</td>\n",
       "      <td>NaN</td>\n",
       "      <td>http://books.google.com/books/content?id=OFJyy...</td>\n",
       "      <td>This is a reproduction of the original artefac...</td>\n",
       "      <td>2019.0</td>\n",
       "      <td>4.32</td>\n",
       "      <td>224.0</td>\n",
       "      <td>8206.0</td>\n",
       "    </tr>\n",
       "    <tr>\n",
       "      <th>5853</th>\n",
       "      <td>9781406917895</td>\n",
       "      <td>1406917893</td>\n",
       "      <td>Israel's Shepherd; Or, Thoughts on the Love of...</td>\n",
       "      <td>NaN</td>\n",
       "      <td>Hardpress</td>\n",
       "      <td>History</td>\n",
       "      <td>http://books.google.com/books/content?id=1q9_y...</td>\n",
       "      <td>This is a reproduction of the original artefac...</td>\n",
       "      <td>2019.0</td>\n",
       "      <td>3.72</td>\n",
       "      <td>46.0</td>\n",
       "      <td>605.0</td>\n",
       "    </tr>\n",
       "    <tr>\n",
       "      <th>5854</th>\n",
       "      <td>9781406922905</td>\n",
       "      <td>1406922900</td>\n",
       "      <td>The Pronouncing Reading Book for Children, Wit...</td>\n",
       "      <td>NaN</td>\n",
       "      <td>William L Robinson</td>\n",
       "      <td>History</td>\n",
       "      <td>http://books.google.com/books/content?id=gyiJy...</td>\n",
       "      <td>This is a reproduction of the original artefac...</td>\n",
       "      <td>2019.0</td>\n",
       "      <td>3.66</td>\n",
       "      <td>92.0</td>\n",
       "      <td>2477.0</td>\n",
       "    </tr>\n",
       "    <tr>\n",
       "      <th>5855</th>\n",
       "      <td>9781406934854</td>\n",
       "      <td>1406934852</td>\n",
       "      <td>A Commentary Upon the Gospel According to S. Luke</td>\n",
       "      <td>NaN</td>\n",
       "      <td>Saint Cyril (patriarch of Alexandria)</td>\n",
       "      <td>History</td>\n",
       "      <td>http://books.google.com/books/content?id=Mclsy...</td>\n",
       "      <td>This is a reproduction of the original artefac...</td>\n",
       "      <td>2019.0</td>\n",
       "      <td>3.59</td>\n",
       "      <td>362.0</td>\n",
       "      <td>669.0</td>\n",
       "    </tr>\n",
       "    <tr>\n",
       "      <th>5856</th>\n",
       "      <td>9781406942354</td>\n",
       "      <td>1406942359</td>\n",
       "      <td>Collections of the Massachusetts Historical So...</td>\n",
       "      <td>NaN</td>\n",
       "      <td>Hardpress</td>\n",
       "      <td>History</td>\n",
       "      <td>http://books.google.com/books/content?id=mB3Jr...</td>\n",
       "      <td>This is a reproduction of the original artefac...</td>\n",
       "      <td>2019.0</td>\n",
       "      <td>4.13</td>\n",
       "      <td>192.0</td>\n",
       "      <td>2.0</td>\n",
       "    </tr>\n",
       "    <tr>\n",
       "      <th>5857</th>\n",
       "      <td>9781406957242</td>\n",
       "      <td>1406957240</td>\n",
       "      <td>The Story of the Life of Lafayette</td>\n",
       "      <td>As Told by a Father to His Children</td>\n",
       "      <td>Mrs John Farrar</td>\n",
       "      <td>History</td>\n",
       "      <td>http://books.google.com/books/content?id=oVd-y...</td>\n",
       "      <td>This is a reproduction of the original artefac...</td>\n",
       "      <td>2019.0</td>\n",
       "      <td>3.93</td>\n",
       "      <td>368.0</td>\n",
       "      <td>29.0</td>\n",
       "    </tr>\n",
       "  </tbody>\n",
       "</table>\n",
       "</div>"
      ],
      "text/plain": [
       "             isbn13      isbn10  \\\n",
       "5851  9781406904833  140690483X   \n",
       "5853  9781406917895  1406917893   \n",
       "5854  9781406922905  1406922900   \n",
       "5855  9781406934854  1406934852   \n",
       "5856  9781406942354  1406942359   \n",
       "5857  9781406957242  1406957240   \n",
       "\n",
       "                                                  title  \\\n",
       "5851                                  Nöddebo Parsonage   \n",
       "5853  Israel's Shepherd; Or, Thoughts on the Love of...   \n",
       "5854  The Pronouncing Reading Book for Children, Wit...   \n",
       "5855  A Commentary Upon the Gospel According to S. Luke   \n",
       "5856  Collections of the Massachusetts Historical So...   \n",
       "5857                 The Story of the Life of Lafayette   \n",
       "\n",
       "                                 subtitle  \\\n",
       "5851   A Story of Country Life in Denmark   \n",
       "5853                                  NaN   \n",
       "5854                                  NaN   \n",
       "5855                                  NaN   \n",
       "5856                                  NaN   \n",
       "5857  As Told by a Father to His Children   \n",
       "\n",
       "                                    authors categories  \\\n",
       "5851                                Bentley        NaN   \n",
       "5853                              Hardpress    History   \n",
       "5854                     William L Robinson    History   \n",
       "5855  Saint Cyril (patriarch of Alexandria)    History   \n",
       "5856                              Hardpress    History   \n",
       "5857                        Mrs John Farrar    History   \n",
       "\n",
       "                                              thumbnail  \\\n",
       "5851  http://books.google.com/books/content?id=OFJyy...   \n",
       "5853  http://books.google.com/books/content?id=1q9_y...   \n",
       "5854  http://books.google.com/books/content?id=gyiJy...   \n",
       "5855  http://books.google.com/books/content?id=Mclsy...   \n",
       "5856  http://books.google.com/books/content?id=mB3Jr...   \n",
       "5857  http://books.google.com/books/content?id=oVd-y...   \n",
       "\n",
       "                                            description  published_year  \\\n",
       "5851  This is a reproduction of the original artefac...          2019.0   \n",
       "5853  This is a reproduction of the original artefac...          2019.0   \n",
       "5854  This is a reproduction of the original artefac...          2019.0   \n",
       "5855  This is a reproduction of the original artefac...          2019.0   \n",
       "5856  This is a reproduction of the original artefac...          2019.0   \n",
       "5857  This is a reproduction of the original artefac...          2019.0   \n",
       "\n",
       "      average_rating  num_pages  ratings_count  \n",
       "5851            4.32      224.0         8206.0  \n",
       "5853            3.72       46.0          605.0  \n",
       "5854            3.66       92.0         2477.0  \n",
       "5855            3.59      362.0          669.0  \n",
       "5856            4.13      192.0            2.0  \n",
       "5857            3.93      368.0           29.0  "
      ]
     },
     "execution_count": 22,
     "metadata": {},
     "output_type": "execute_result"
    }
   ],
   "source": [
    "df[df['description'] == \"This is a reproduction of the original artefact. Generally these books are created from careful scans of the original. This allows us to preserve the book accurately and present it in the way the author intended. Since the original versions are generally quite old, there may occasionally be certain imperfections within these reproductions. We're happy to make these classics available again for future generations to enjoy!\"]"
   ]
  },
  {
   "cell_type": "markdown",
   "metadata": {},
   "source": [
    "Algunas pocas descripciones se repiten, la descripción a veces habla del contenido del libro o de condiciones de la publicación, como ser una reproducción para la conservación"
   ]
  },
  {
   "cell_type": "markdown",
   "metadata": {},
   "source": [
    "## Columna published year"
   ]
  },
  {
   "cell_type": "code",
   "execution_count": 23,
   "metadata": {},
   "outputs": [
    {
     "name": "stdout",
     "output_type": "stream",
     "text": [
      "¿Cuántas filas tiene la columna? 6810\n",
      "--------------------\n",
      "¿Cuántas filas únicas tiene la columna? 95\n",
      "¿Qué porcentaje de los valores de la columna son únicos? 1.4\n",
      "--------------------\n",
      "¿Cuántas filas vacías tiene la columna? 6\n",
      "¿Qué porcentaje de los valores de la columna son vacíos? 0.09\n"
     ]
    }
   ],
   "source": [
    "contar_valores_vacios(df,'published_year')"
   ]
  },
  {
   "cell_type": "code",
   "execution_count": 24,
   "metadata": {},
   "outputs": [
    {
     "data": {
      "text/plain": [
       "<module 'matplotlib.pyplot' from 'c:\\\\Users\\\\luise\\\\Documents\\\\Proyectos\\\\Bibliotecas\\\\RecomendacionLiterarIA\\\\.venv\\\\Lib\\\\site-packages\\\\matplotlib\\\\pyplot.py'>"
      ]
     },
     "execution_count": 24,
     "metadata": {},
     "output_type": "execute_result"
    },
    {
     "data": {
      "image/png": "[encoded data removed]",
      "text/plain": [
       "<Figure size 1200x600 with 1 Axes>"
      ]
     },
     "metadata": {},
     "output_type": "display_data"
    }
   ],
   "source": [
    "plot_distribution(df,'published_year')"
   ]
  },
  {
   "cell_type": "markdown",
   "metadata": {},
   "source": [
    "Los años donde hay más libros publicados son los de después del 2000.\n",
    "Solo 6 titulos les falta el año\n",
    "Hay pocos libros muy recientes."
   ]
  },
  {
   "cell_type": "markdown",
   "metadata": {},
   "source": [
    "## Columna average_rating"
   ]
  },
  {
   "cell_type": "code",
   "execution_count": 25,
   "metadata": {},
   "outputs": [
    {
     "name": "stdout",
     "output_type": "stream",
     "text": [
      "¿Cuántas filas tiene la columna? 6810\n",
      "--------------------\n",
      "¿Cuántas filas únicas tiene la columna? 201\n",
      "¿Qué porcentaje de los valores de la columna son únicos? 2.95\n",
      "--------------------\n",
      "¿Cuántas filas vacías tiene la columna? 43\n",
      "¿Qué porcentaje de los valores de la columna son vacíos? 0.63\n"
     ]
    }
   ],
   "source": [
    "contar_valores_vacios(df,'average_rating')"
   ]
  },
  {
   "cell_type": "code",
   "execution_count": 26,
   "metadata": {},
   "outputs": [
    {
     "data": {
      "text/plain": [
       "<module 'matplotlib.pyplot' from 'c:\\\\Users\\\\luise\\\\Documents\\\\Proyectos\\\\Bibliotecas\\\\RecomendacionLiterarIA\\\\.venv\\\\Lib\\\\site-packages\\\\matplotlib\\\\pyplot.py'>"
      ]
     },
     "execution_count": 26,
     "metadata": {},
     "output_type": "execute_result"
    },
    {
     "data": {
      "image/png": "[encoded data removed]",
      "text/plain": [
       "<Figure size 1200x600 with 1 Axes>"
      ]
     },
     "metadata": {},
     "output_type": "display_data"
    }
   ],
   "source": [
    "plot_distribution(df,'average_rating')"
   ]
  },
  {
   "cell_type": "markdown",
   "metadata": {},
   "source": [
    "La distribución está sesgada a la derecha, hay algunos pocos valores atípicos de 0, 2 y 5.\n",
    "Es necesario comparar con el rating-counts\n",
    "Hay muchos ratings promedio que se repiten"
   ]
  },
  {
   "cell_type": "markdown",
   "metadata": {},
   "source": [
    "## Columna num_pages"
   ]
  },
  {
   "cell_type": "code",
   "execution_count": 27,
   "metadata": {},
   "outputs": [
    {
     "name": "stdout",
     "output_type": "stream",
     "text": [
      "¿Cuántas filas tiene la columna? 6810\n",
      "--------------------\n",
      "¿Cuántas filas únicas tiene la columna? 916\n",
      "¿Qué porcentaje de los valores de la columna son únicos? 13.45\n",
      "--------------------\n",
      "¿Cuántas filas vacías tiene la columna? 43\n",
      "¿Qué porcentaje de los valores de la columna son vacíos? 0.63\n"
     ]
    }
   ],
   "source": [
    "contar_valores_vacios(df,'num_pages')"
   ]
  },
  {
   "cell_type": "code",
   "execution_count": 28,
   "metadata": {},
   "outputs": [
    {
     "data": {
      "text/plain": [
       "<module 'matplotlib.pyplot' from 'c:\\\\Users\\\\luise\\\\Documents\\\\Proyectos\\\\Bibliotecas\\\\RecomendacionLiterarIA\\\\.venv\\\\Lib\\\\site-packages\\\\matplotlib\\\\pyplot.py'>"
      ]
     },
     "execution_count": 28,
     "metadata": {},
     "output_type": "execute_result"
    },
    {
     "data": {
      "image/png": "[encoded data removed]",
      "text/plain": [
       "<Figure size 1200x600 with 1 Axes>"
      ]
     },
     "metadata": {},
     "output_type": "display_data"
    }
   ],
   "source": [
    "plot_distribution(df,'num_pages')"
   ]
  },
  {
   "cell_type": "markdown",
   "metadata": {},
   "source": [
    "## Columna ratings_count"
   ]
  },
  {
   "cell_type": "code",
   "execution_count": 29,
   "metadata": {},
   "outputs": [
    {
     "name": "stdout",
     "output_type": "stream",
     "text": [
      "¿Cuántas filas tiene la columna? 6810\n",
      "--------------------\n",
      "¿Cuántas filas únicas tiene la columna? 3882\n",
      "¿Qué porcentaje de los valores de la columna son únicos? 57.0\n",
      "--------------------\n",
      "¿Cuántas filas vacías tiene la columna? 43\n",
      "¿Qué porcentaje de los valores de la columna son vacíos? 0.63\n"
     ]
    },
    {
     "data": {
      "text/plain": [
       "<module 'matplotlib.pyplot' from 'c:\\\\Users\\\\luise\\\\Documents\\\\Proyectos\\\\Bibliotecas\\\\RecomendacionLiterarIA\\\\.venv\\\\Lib\\\\site-packages\\\\matplotlib\\\\pyplot.py'>"
      ]
     },
     "execution_count": 29,
     "metadata": {},
     "output_type": "execute_result"
    },
    {
     "data": {
      "image/png": "[encoded data removed]",
      "text/plain": [
       "<Figure size 1200x600 with 1 Axes>"
      ]
     },
     "metadata": {},
     "output_type": "display_data"
    }
   ],
   "source": [
    "contar_valores_vacios(df,'ratings_count')\n",
    "plot_distribution(df,'ratings_count')"
   ]
  },
  {
   "cell_type": "code",
   "execution_count": 30,
   "metadata": {},
   "outputs": [
    {
     "data": {
      "text/plain": [
       "ratings_count\n",
       "4.0       39\n",
       "10.0      33\n",
       "9.0       29\n",
       "11.0      29\n",
       "8.0       29\n",
       "          ..\n",
       "486.0      1\n",
       "403.0      1\n",
       "837.0      1\n",
       "1972.0     1\n",
       "2461.0     1\n",
       "Name: count, Length: 3881, dtype: int64"
      ]
     },
     "execution_count": 30,
     "metadata": {},
     "output_type": "execute_result"
    }
   ],
   "source": [
    "df[\"ratings_count\"].value_counts()"
   ]
  },
  {
   "cell_type": "code",
   "execution_count": 31,
   "metadata": {},
   "outputs": [
    {
     "name": "stderr",
     "output_type": "stream",
     "text": [
      "C:\\Users\\luise\\AppData\\Local\\Temp\\ipykernel_17040\\680092676.py:2: RuntimeWarning: divide by zero encountered in log10\n",
      "  df[\"log_ratings_count\"] = df[\"ratings_count\"].apply(lambda x: np.log10(x))\n",
      "c:\\Users\\luise\\Documents\\Proyectos\\Bibliotecas\\RecomendacionLiterarIA\\.venv\\Lib\\site-packages\\pandas\\core\\nanops.py:1016: RuntimeWarning: invalid value encountered in subtract\n",
      "  sqr = _ensure_numeric((avg - values) ** 2)\n"
     ]
    },
    {
     "data": {
      "text/plain": [
       "<module 'matplotlib.pyplot' from 'c:\\\\Users\\\\luise\\\\Documents\\\\Proyectos\\\\Bibliotecas\\\\RecomendacionLiterarIA\\\\.venv\\\\Lib\\\\site-packages\\\\matplotlib\\\\pyplot.py'>"
      ]
     },
     "execution_count": 31,
     "metadata": {},
     "output_type": "execute_result"
    },
    {
     "data": {
      "image/png": "[encoded data removed]",
      "text/plain": [
       "<Figure size 1200x600 with 1 Axes>"
      ]
     },
     "metadata": {},
     "output_type": "display_data"
    }
   ],
   "source": [
    "import numpy as np\n",
    "df[\"log_ratings_count\"] = df[\"ratings_count\"].apply(lambda x: np.log10(x))\n",
    "plot_distribution(df,'log_ratings_count')"
   ]
  },
  {
   "cell_type": "markdown",
   "metadata": {},
   "source": [
    "# Descripción de las columnas\n",
    "- **isbn13**: \n",
    "Número de ISBN13\n",
    "- **isbn10**: \n",
    "Número de ISBN10, contiene también caracteres.\n",
    "- **title**: \n",
    "Titulos de los libros, algunos se repiten. No hay Nan ni Nulls.\n",
    "- **subtitle**: \n",
    "Subtitulo del libro, alrededor del 65% de los libros no tienen subtitulo. y hay muchos subtitulos cortos que se repiten como \"A Novel\", \"A Play\", etc.\n",
    "Algunos subtitulos distinguen entre distintos libros de la misma saga, los que no tienen subtitulos pueden ser distintas ediciones del mismo libro. \n",
    "- **authors**: Puede tener varios autores separados por \";\". El mismo autor puede escribirse de formas distintas.\n",
    "- **categories**: Hay categorías que contienen a otras de forma no explicita, pocas categorias con mucha ocurrencia y muchas con pocas.\n",
    "- **thumbnail**:  Imágenes de la portada, links que no funcionan y no es procesable sin modelo de procesamiento de imágenes.\n",
    "- **description**: Descripción del contenido del libro, algunos libros no tienen descripción, otros hablan sobre que es una obra de reproducción, algunos tienen valores nulos.\n",
    "- **published_year**: Año de publicación, la mayoria publicados alrededor de 1990-2010, pocos libros muy antiguos y muy nuevos.\n",
    "- **average_rating**: Rating promedio de las personas, sesgado fuertemence hacia la derecha, pocos valores atípicos de 0,2 y 5. Tiene pocos faltantes.\n",
    "- **num_pages**: Parece tener una distribución tipo levy con una cola muy larga. Tiene pocos faltantes.\n",
    "- **ratings_count**: Hay una alta variabilidad en el número de ratings, hay muchos libros con pocos ratings y pocos con muchos. Cuando se hace el log10 de los ratings hay una distribución más uniforme, casi normal."
   ]
  },
  {
   "cell_type": "markdown",
   "metadata": {},
   "source": [
    "## Matriz de Correlación"
   ]
  },
  {
   "cell_type": "code",
   "execution_count": 32,
   "metadata": {},
   "outputs": [
    {
     "data": {
      "text/html": [
       "<div>\n",
       "<style scoped>\n",
       "    .dataframe tbody tr th:only-of-type {\n",
       "        vertical-align: middle;\n",
       "    }\n",
       "\n",
       "    .dataframe tbody tr th {\n",
       "        vertical-align: top;\n",
       "    }\n",
       "\n",
       "    .dataframe thead th {\n",
       "        text-align: right;\n",
       "    }\n",
       "</style>\n",
       "<table border=\"1\" class=\"dataframe\">\n",
       "  <thead>\n",
       "    <tr style=\"text-align: right;\">\n",
       "      <th></th>\n",
       "      <th>published_year</th>\n",
       "      <th>average_rating</th>\n",
       "      <th>num_pages</th>\n",
       "      <th>ratings_count</th>\n",
       "    </tr>\n",
       "  </thead>\n",
       "  <tbody>\n",
       "    <tr>\n",
       "      <th>published_year</th>\n",
       "      <td>1.000000</td>\n",
       "      <td>-0.064344</td>\n",
       "      <td>-0.002641</td>\n",
       "      <td>0.047258</td>\n",
       "    </tr>\n",
       "    <tr>\n",
       "      <th>average_rating</th>\n",
       "      <td>-0.064344</td>\n",
       "      <td>1.000000</td>\n",
       "      <td>0.200153</td>\n",
       "      <td>0.049872</td>\n",
       "    </tr>\n",
       "    <tr>\n",
       "      <th>num_pages</th>\n",
       "      <td>-0.002641</td>\n",
       "      <td>0.200153</td>\n",
       "      <td>1.000000</td>\n",
       "      <td>0.035768</td>\n",
       "    </tr>\n",
       "    <tr>\n",
       "      <th>ratings_count</th>\n",
       "      <td>0.047258</td>\n",
       "      <td>0.049872</td>\n",
       "      <td>0.035768</td>\n",
       "      <td>1.000000</td>\n",
       "    </tr>\n",
       "  </tbody>\n",
       "</table>\n",
       "</div>"
      ],
      "text/plain": [
       "                published_year  average_rating  num_pages  ratings_count\n",
       "published_year        1.000000       -0.064344  -0.002641       0.047258\n",
       "average_rating       -0.064344        1.000000   0.200153       0.049872\n",
       "num_pages            -0.002641        0.200153   1.000000       0.035768\n",
       "ratings_count         0.047258        0.049872   0.035768       1.000000"
      ]
     },
     "execution_count": 32,
     "metadata": {},
     "output_type": "execute_result"
    }
   ],
   "source": [
    "df[[\"published_year\",\"average_rating\",\"num_pages\",\"ratings_count\"]].corr()"
   ]
  },
  {
   "cell_type": "markdown",
   "metadata": {},
   "source": [
    "# Selección de las variables a utilizar"
   ]
  },
  {
   "cell_type": "code",
   "execution_count": 33,
   "metadata": {},
   "outputs": [
    {
     "data": {
      "text/plain": [
       "Index(['isbn13', 'isbn10', 'title', 'subtitle', 'authors', 'categories',\n",
       "       'thumbnail', 'description', 'published_year', 'average_rating',\n",
       "       'num_pages', 'ratings_count', 'log_ratings_count'],\n",
       "      dtype='object')"
      ]
     },
     "execution_count": 33,
     "metadata": {},
     "output_type": "execute_result"
    }
   ],
   "source": [
    "df.columns"
   ]
  },
  {
   "cell_type": "markdown",
   "metadata": {},
   "source": [
    "- **isbn13** Como identificador único de cada libro.\n",
    "- **description** Para usar la descripción podríamos usar otro modelo que clasifique el libro en una categoría de sentimiento.\n",
    "- **authors** Para usar los autores podríamos usar otro modelo que clasifique el libro en una categoría de género.\n",
    "- **published_year** Como variable númerica.\n",
    "- **num_pages** Como variable númerica."
   ]
  }
 ],
 "metadata": {
  "kernelspec": {
   "display_name": ".venv",
   "language": "python",
   "name": "python3"
  },
  "language_info": {
   "codemirror_mode": {
    "name": "ipython",
    "version": 3
   },
   "file_extension": ".py",
   "mimetype": "text/x-python",
   "name": "python",
   "nbconvert_exporter": "python",
   "pygments_lexer": "ipython3",
   "version": "3.12.6"
  }
 },
 "nbformat": 4,
 "nbformat_minor": 2
}
